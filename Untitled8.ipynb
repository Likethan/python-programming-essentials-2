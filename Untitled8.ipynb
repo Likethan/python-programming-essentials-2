{
  "nbformat": 4,
  "nbformat_minor": 0,
  "metadata": {
    "colab": {
      "provenance": []
    },
    "kernelspec": {
      "name": "python3",
      "display_name": "Python 3"
    },
    "language_info": {
      "name": "python"
    }
  },
  "cells": [
    {
      "cell_type": "code",
      "execution_count": 1,
      "metadata": {
        "colab": {
          "base_uri": "https://localhost:8080/"
        },
        "id": "ueaedY5YY-wf",
        "outputId": "cf5c897e-2fbc-44ba-89c3-28d7aecae343"
      },
      "outputs": [
        {
          "output_type": "stream",
          "name": "stdout",
          "text": [
            "P(Heads): 0.5\n"
          ]
        }
      ],
      "source": [
        "# Probability of getting heads in a coin toss\n",
        "P_heads = 1 / 2\n",
        "print(\"P(Heads):\", P_heads)\n"
      ]
    },
    {
      "cell_type": "code",
      "source": [
        "from scipy.stats import binom\n",
        "\n",
        "# Parameters: n=10 trials, p=0.5 success probability\n",
        "n, p = 10, 0.5\n",
        "k = 5\n",
        "print(\"P(X=5):\", binom.pmf(k, n, p))  # Probability of 5 successes\n"
      ],
      "metadata": {
        "colab": {
          "base_uri": "https://localhost:8080/"
        },
        "id": "ueUQZWjsZAXH",
        "outputId": "a8afe15a-5dc2-48fe-c8db-7b09908cf091"
      },
      "execution_count": 2,
      "outputs": [
        {
          "output_type": "stream",
          "name": "stdout",
          "text": [
            "P(X=5): 0.24609375000000003\n"
          ]
        }
      ]
    },
    {
      "cell_type": "code",
      "source": [
        "from scipy.stats import poisson\n",
        "\n",
        "# λ = average number of events\n",
        "lambda_ = 3\n",
        "print(\"P(X=2):\", poisson.pmf(2, lambda_))  # Probability of 2 events\n"
      ],
      "metadata": {
        "colab": {
          "base_uri": "https://localhost:8080/"
        },
        "id": "B8-HnjtQZAPy",
        "outputId": "2c15598b-08d6-483a-b177-b4381caf2b4a"
      },
      "execution_count": 3,
      "outputs": [
        {
          "output_type": "stream",
          "name": "stdout",
          "text": [
            "P(X=2): 0.22404180765538775\n"
          ]
        }
      ]
    },
    {
      "cell_type": "code",
      "source": [
        "from scipy.stats import norm\n",
        "\n",
        "mu, sigma = 0, 1  # Standard normal\n",
        "print(\"P(X <= 1.96):\", norm.cdf(1.96, mu, sigma))  # Cumulative probability\n"
      ],
      "metadata": {
        "colab": {
          "base_uri": "https://localhost:8080/"
        },
        "id": "9q8JGjR2ZAHT",
        "outputId": "5c0a0f49-d6b9-4617-b787-d1439befa351"
      },
      "execution_count": 4,
      "outputs": [
        {
          "output_type": "stream",
          "name": "stdout",
          "text": [
            "P(X <= 1.96): 0.9750021048517795\n"
          ]
        }
      ]
    },
    {
      "cell_type": "code",
      "source": [
        "P_spam = 0.2\n",
        "P_win_given_spam = 0.8\n",
        "P_win = 0.32\n",
        "\n",
        "P_spam_given_win = (P_win_given_spam * P_spam) / P_win\n",
        "print(\"P(Spam | 'win'):\", P_spam_given_win)\n"
      ],
      "metadata": {
        "colab": {
          "base_uri": "https://localhost:8080/"
        },
        "id": "ly1P6vZFY_lS",
        "outputId": "c52374ce-d17b-4d7a-d5be-cfbb29603fc6"
      },
      "execution_count": 5,
      "outputs": [
        {
          "output_type": "stream",
          "name": "stdout",
          "text": [
            "P(Spam | 'win'): 0.5000000000000001\n"
          ]
        }
      ]
    }
  ]
}