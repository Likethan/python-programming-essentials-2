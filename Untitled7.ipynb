{
  "nbformat": 4,
  "nbformat_minor": 0,
  "metadata": {
    "colab": {
      "provenance": []
    },
    "kernelspec": {
      "name": "python3",
      "display_name": "Python 3"
    },
    "language_info": {
      "name": "python"
    }
  },
  "cells": [
    {
      "cell_type": "code",
      "execution_count": null,
      "metadata": {
        "id": "yyYjRK0OVjr2"
      },
      "outputs": [],
      "source": [
        "import numpy as np\n"
      ]
    },
    {
      "cell_type": "code",
      "source": [
        "# Vectors\n",
        "v1 = np.array([1, 2, 3])\n",
        "v2 = np.array([4, 5, 6])\n",
        "\n",
        "# Addition\n",
        "v_add = v1 + v2\n",
        "\n",
        "# Scalar multiplication\n",
        "v_scalar = 2 * v1\n",
        "\n",
        "# Magnitude (length)\n",
        "v1_magnitude = np.linalg.norm(v1)\n"
      ],
      "metadata": {
        "id": "kjQrSpnNVlPk"
      },
      "execution_count": null,
      "outputs": []
    },
    {
      "cell_type": "code",
      "source": [
        "dot_product = np.dot(v1, v2)\n"
      ],
      "metadata": {
        "id": "45pjqxU3VlMK"
      },
      "execution_count": null,
      "outputs": []
    },
    {
      "cell_type": "code",
      "source": [
        "cross_product = np.cross(v1, v2)\n"
      ],
      "metadata": {
        "id": "PKf7faHdVlHG"
      },
      "execution_count": null,
      "outputs": []
    },
    {
      "cell_type": "code",
      "source": [
        "# Matrices\n",
        "A = np.array([[1, 2], [3, 4]])\n",
        "B = np.array([[5, 6], [7, 8]])\n",
        "\n",
        "# Addition\n",
        "mat_add = A + B\n",
        "\n",
        "# Scalar multiplication\n",
        "mat_scalar = 3 * A\n",
        "\n",
        "# Matrix multiplication\n",
        "mat_mult = np.dot(A, B)\n",
        "\n",
        "# Transpose\n",
        "A_T = A.T\n"
      ],
      "metadata": {
        "id": "m9SP5T9UVk92"
      },
      "execution_count": null,
      "outputs": []
    },
    {
      "cell_type": "code",
      "source": [
        "print(\"Vector Addition:\", v_add)\n",
        "print(\"Scalar Multiplication:\", v_scalar)\n",
        "print(\"Vector Magnitude:\", v1_magnitude)\n",
        "print(\"Dot Product:\", dot_product)\n",
        "print(\"Cross Product:\", cross_product)\n",
        "\n",
        "print(\"Matrix Addition:\\n\", mat_add)\n",
        "print(\"Matrix Scalar Multiplication:\\n\", mat_scalar)\n",
        "print(\"Matrix Multiplication:\\n\", mat_mult)\n",
        "print(\"Transpose of A:\\n\", A_T)\n"
      ],
      "metadata": {
        "id": "v-gcdBZvVkxf"
      },
      "execution_count": null,
      "outputs": []
    }
  ]
}