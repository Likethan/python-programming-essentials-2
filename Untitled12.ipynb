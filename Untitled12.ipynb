{
  "nbformat": 4,
  "nbformat_minor": 0,
  "metadata": {
    "colab": {
      "provenance": []
    },
    "kernelspec": {
      "name": "python3",
      "display_name": "Python 3"
    },
    "language_info": {
      "name": "python"
    }
  },
  "cells": [
    {
      "cell_type": "code",
      "execution_count": null,
      "metadata": {
        "id": "94HiSZlwjOmA"
      },
      "outputs": [],
      "source": [
        "import numpy as np\n",
        "import matplotlib.pyplot as plt\n"
      ]
    },
    {
      "cell_type": "code",
      "source": [
        "# Square matrix\n",
        "A = np.array([[4, -2],\n",
        "              [1,  1]])\n",
        "\n",
        "# Eigenvalues and eigenvectors\n",
        "eigenvalues, eigenvectors = np.linalg.eig(A)\n",
        "\n",
        "print(\"Matrix A:\\n\", A)\n",
        "print(\"\\nEigenvalues:\\n\", eigenvalues)\n",
        "print(\"\\nEigenvectors (columns):\\n\", eigenvectors)\n",
        "\n",
        "# Visualize eigenvectors\n",
        "origin = [0], [0]\n",
        "plt.quiver(*origin, A[0], A[1], color='gray', angles='xy', scale_units='xy', scale=1, label='Original vectors')\n",
        "plt.quiver(*origin, eigenvectors[0], eigenvectors[1], color=['r', 'b'], angles='xy', scale_units='xy', scale=1, label='Eigenvectors')\n",
        "plt.title(\"Eigenvectors of A\")\n",
        "plt.grid()\n",
        "plt.axis('equal')\n",
        "plt.legend()\n",
        "plt.show()\n"
      ],
      "metadata": {
        "id": "Yz5dNV8qjPUV"
      },
      "execution_count": null,
      "outputs": []
    },
    {
      "cell_type": "code",
      "source": [
        "# Any rectangular matrix\n",
        "B = np.array([[3, 1, 1],\n",
        "              [-1, 3, 1]])\n",
        "\n",
        "# SVD decomposition\n",
        "U, S, VT = np.linalg.svd(B)\n",
        "\n",
        "print(\"Matrix B:\\n\", B)\n",
        "print(\"\\nU (left singular vectors):\\n\", U)\n",
        "print(\"\\nSingular values (Sigma):\\n\", S)\n",
        "print(\"\\nV^T (right singular vectors transposed):\\n\", VT)\n",
        "\n",
        "# Reconstruct matrix from SVD\n",
        "Sigma = np.zeros_like(B, dtype=float)\n",
        "np.fill_diagonal(Sigma, S)\n",
        "reconstructed = U @ Sigma @ VT\n",
        "\n",
        "print(\"\\nReconstructed B:\\n\", reconstructed)\n"
      ],
      "metadata": {
        "id": "2ye86L7pjWPf"
      },
      "execution_count": null,
      "outputs": []
    }
  ]
}