{
  "nbformat": 4,
  "nbformat_minor": 0,
  "metadata": {
    "colab": {
      "provenance": []
    },
    "kernelspec": {
      "name": "python3",
      "display_name": "Python 3"
    },
    "language_info": {
      "name": "python"
    }
  },
  "cells": [
    {
      "cell_type": "code",
      "execution_count": null,
      "metadata": {
        "id": "QCgeUtNmbXzY"
      },
      "outputs": [],
      "source": [
        "import numpy as np\n",
        "import matplotlib.pyplot as plt\n",
        "\n",
        "# Define the function and its derivative\n",
        "def f(x):\n",
        "    return x**2\n",
        "\n",
        "def df(x):\n",
        "    return 2*x  # Derivative of x^2\n",
        "\n",
        "# Plotting\n",
        "x = np.linspace(-5, 5, 100)\n",
        "y = f(x)\n",
        "tangent_x = 2  # Point where we draw the tangent\n",
        "tangent_y = f(tangent_x)\n",
        "slope = df(tangent_x)\n",
        "tangent_line = slope * (x - tangent_x) + tangent_y\n",
        "\n",
        "plt.figure(figsize=(8, 6))\n",
        "plt.plot(x, y, label='f(x) = x²', color='blue')\n",
        "plt.plot(x, tangent_line, '--', label=f'Tangent at x={tangent_x}', color='orange')\n",
        "plt.scatter(tangent_x, tangent_y, color='red')\n",
        "plt.title(\"Derivative as Slope of Tangent Line\")\n",
        "plt.xlabel('x')\n",
        "plt.ylabel('f(x)')\n",
        "plt.axhline(0, color='black', lw=0.5)\n",
        "plt.axvline(0, color='black', lw=0.5)\n",
        "plt.legend()\n",
        "plt.grid(True)\n",
        "plt.show()\n"
      ]
    },
    {
      "cell_type": "code",
      "source": [
        "from mpl_toolkits.mplot3d import Axes3D\n",
        "\n",
        "# Define the function\n",
        "def f(x, y):\n",
        "    return x**2 + y**2\n",
        "\n",
        "# Gradient (partial derivatives)\n",
        "def grad_f(x, y):\n",
        "    return 2*x, 2*y\n",
        "\n",
        "# Meshgrid for plotting\n",
        "x = y = np.linspace(-3, 3, 30)\n",
        "X, Y = np.meshgrid(x, y)\n",
        "Z = f(X, Y)\n",
        "\n",
        "# Plotting\n",
        "fig = plt.figure(figsize=(10, 7))\n",
        "ax = fig.add_subplot(111, projection='3d')\n",
        "ax.plot_surface(X, Y, Z, cmap='viridis', alpha=0.8)\n",
        "\n",
        "# Gradient vector at a point\n",
        "point_x, point_y = 1, 1\n",
        "gx, gy = grad_f(point_x, point_y)\n",
        "point_z = f(point_x, point_y)\n",
        "\n",
        "# Plot the gradient vector as an arrow\n",
        "ax.quiver(point_x, point_y, point_z, gx, gy, 0, color='red', length=1)\n",
        "\n",
        "ax.set_title(\"Gradient Vector on Surface f(x, y) = x² + y²\")\n",
        "ax.set_xlabel('X')\n",
        "ax.set_ylabel('Y')\n",
        "ax.set_zlabel('f(x, y)')\n",
        "plt.show()\n",
        "3655555555555555555555554"
      ],
      "metadata": {
        "id": "WYWxXkHVbjal"
      },
      "execution_count": null,
      "outputs": []
    }
  ]
}